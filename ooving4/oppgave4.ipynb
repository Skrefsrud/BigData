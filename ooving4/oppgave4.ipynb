{
 "cells": [
  {
   "cell_type": "code",
   "execution_count": 1,
   "metadata": {},
   "outputs": [],
   "source": [
    "# Import necessary libraries\n",
    "import pandas as pd\n",
    "import numpy as np\n",
    "import matplotlib.pyplot as plt\n",
    "from sklearn.model_selection import train_test_split, cross_val_score\n",
    "from sklearn.neighbors import KNeighborsClassifier\n",
    "from sklearn.metrics import confusion_matrix, classification_report, accuracy_score\n",
    "from sklearn.preprocessing import StandardScaler\n"
   ]
  },
  {
   "cell_type": "code",
   "execution_count": 3,
   "metadata": {},
   "outputs": [],
   "source": [
    "# Simulate loading the dataset using the provided snippet\n",
    "data = pd.read_csv('dataset/ov4-breast-cancer.csv')\n"
   ]
  },
  {
   "cell_type": "code",
   "execution_count": null,
   "metadata": {},
   "outputs": [],
   "source": [
    "# Display the first few rows\n",
    "print(data.head())\n",
    "\n",
    "# Check for missing values\n",
    "print(data.isnull().sum())\n"
   ]
  },
  {
   "cell_type": "code",
   "execution_count": 5,
   "metadata": {},
   "outputs": [
    {
     "name": "stdout",
     "output_type": "stream",
     "text": [
      "id                         0\n",
      "clump_thickness            0\n",
      "unif_cell_size             0\n",
      "unif_cell_shape            0\n",
      "marg_adhesion              0\n",
      "single_epith_cell_size     0\n",
      "bare_nuclei               16\n",
      "bland_chrom                0\n",
      "norm_nucleoli              0\n",
      "mitoses                    0\n",
      "classes                    0\n",
      "dtype: int64\n"
     ]
    }
   ],
   "source": [
    "# Replace missing values denoted by '?' with NaN\n",
    "data.replace('?', np.nan, inplace=True)\n",
    "\n",
    "# Convert columns to numeric, excluding 'id' and 'classes'\n",
    "cols = data.columns.drop(['id', 'classes'])\n",
    "data[cols] = data[cols].apply(pd.to_numeric)\n",
    "\n",
    "# Check for missing values again\n",
    "print(data.isnull().sum())\n"
   ]
  },
  {
   "cell_type": "code",
   "execution_count": 6,
   "metadata": {},
   "outputs": [
    {
     "name": "stdout",
     "output_type": "stream",
     "text": [
      "id                        0\n",
      "clump_thickness           0\n",
      "unif_cell_size            0\n",
      "unif_cell_shape           0\n",
      "marg_adhesion             0\n",
      "single_epith_cell_size    0\n",
      "bare_nuclei               0\n",
      "bland_chrom               0\n",
      "norm_nucleoli             0\n",
      "mitoses                   0\n",
      "classes                   0\n",
      "dtype: int64\n"
     ]
    }
   ],
   "source": [
    "# For simplicity, we'll drop rows with missing values\n",
    "data.dropna(inplace=True)\n",
    "\n",
    "# Confirm that there are no missing values now\n",
    "print(data.isnull().sum())\n"
   ]
  },
  {
   "cell_type": "code",
   "execution_count": 7,
   "metadata": {},
   "outputs": [],
   "source": [
    "# Define features and target variable\n",
    "X = data.drop(['id', 'classes'], axis=1)\n",
    "y = data['classes']\n",
    "\n",
    "# Convert target variable to binary if not already (assuming 0: benign, 1: malignant)\n",
    "y = y.astype(int)\n",
    "\n",
    "# Split into training and test sets (80% train, 20% test)\n",
    "X_train, X_test, y_train, y_test = train_test_split(X, y, test_size=0.2, random_state=42)\n"
   ]
  },
  {
   "cell_type": "code",
   "execution_count": 8,
   "metadata": {},
   "outputs": [],
   "source": [
    "# Initialize the scaler\n",
    "scaler = StandardScaler()\n",
    "\n",
    "# Fit and transform the training data\n",
    "X_train_scaled = scaler.fit_transform(X_train)\n",
    "\n",
    "# Transform the test data\n",
    "X_test_scaled = scaler.transform(X_test)\n"
   ]
  },
  {
   "cell_type": "code",
   "execution_count": 9,
   "metadata": {},
   "outputs": [
    {
     "name": "stdout",
     "output_type": "stream",
     "text": [
      "Initial k value based on sqrt(n): 23\n"
     ]
    }
   ],
   "source": [
    "# Calculate the initial k value\n",
    "n = len(y_train)\n",
    "initial_k = int(np.sqrt(n))\n",
    "if initial_k % 2 == 0:\n",
    "    initial_k += 1  # Ensure k is odd to avoid ties\n",
    "\n",
    "print(f'Initial k value based on sqrt(n): {initial_k}')\n"
   ]
  },
  {
   "cell_type": "code",
   "execution_count": 10,
   "metadata": {},
   "outputs": [
    {
     "name": "stdout",
     "output_type": "stream",
     "text": [
      "Confusion Matrix:\n",
      "[[78  1]\n",
      " [ 5 53]]\n",
      "\n",
      "Classification Report:\n",
      "              precision    recall  f1-score   support\n",
      "\n",
      "           0       0.94      0.99      0.96        79\n",
      "           1       0.98      0.91      0.95        58\n",
      "\n",
      "    accuracy                           0.96       137\n",
      "   macro avg       0.96      0.95      0.95       137\n",
      "weighted avg       0.96      0.96      0.96       137\n",
      "\n"
     ]
    }
   ],
   "source": [
    "# Initialize the classifier with initial k\n",
    "knn = KNeighborsClassifier(n_neighbors=initial_k)\n",
    "\n",
    "# Train the model\n",
    "knn.fit(X_train_scaled, y_train)\n",
    "\n",
    "# Make predictions on the test set\n",
    "y_pred = knn.predict(X_test_scaled)\n",
    "\n",
    "# Evaluate the model\n",
    "print('Confusion Matrix:')\n",
    "print(confusion_matrix(y_test, y_pred))\n",
    "print('\\nClassification Report:')\n",
    "print(classification_report(y_test, y_pred))\n"
   ]
  },
  {
   "cell_type": "code",
   "execution_count": 12,
   "metadata": {},
   "outputs": [
    {
     "name": "stdout",
     "output_type": "stream",
     "text": [
      "\n",
      "For k = 19:\n",
      "Accuracy: 0.9562043795620438\n",
      "Confusion Matrix:\n",
      "[[78  1]\n",
      " [ 5 53]]\n",
      "\n",
      "For k = 21:\n",
      "Accuracy: 0.9562043795620438\n",
      "Confusion Matrix:\n",
      "[[78  1]\n",
      " [ 5 53]]\n",
      "\n",
      "For k = 23:\n",
      "Accuracy: 0.9562043795620438\n",
      "Confusion Matrix:\n",
      "[[78  1]\n",
      " [ 5 53]]\n",
      "\n",
      "For k = 25:\n",
      "Accuracy: 0.948905109489051\n",
      "Confusion Matrix:\n",
      "[[78  1]\n",
      " [ 6 52]]\n",
      "\n",
      "For k = 27:\n",
      "Accuracy: 0.9562043795620438\n",
      "Confusion Matrix:\n",
      "[[78  1]\n",
      " [ 5 53]]\n"
     ]
    }
   ],
   "source": [
    "# Range of k values to try\n",
    "k_values = [initial_k - 4, initial_k - 2, initial_k, initial_k + 2, initial_k + 4]\n",
    "\n",
    "# Dictionary to store performance metrics\n",
    "performance = {}\n",
    "\n",
    "for k in k_values:\n",
    "    if k > 0:\n",
    "        knn = KNeighborsClassifier(n_neighbors=k)\n",
    "        knn.fit(X_train_scaled, y_train)\n",
    "        y_pred = knn.predict(X_test_scaled)\n",
    "        acc = accuracy_score(y_test, y_pred)\n",
    "        cm = confusion_matrix(y_test, y_pred)\n",
    "        performance[k] = {'accuracy': acc, 'confusion_matrix': cm}\n",
    "        print(f'\\nFor k = {k}:')\n",
    "        print('Accuracy:', acc)\n",
    "        print('Confusion Matrix:')\n",
    "        print(cm)\n"
   ]
  },
  {
   "cell_type": "markdown",
   "metadata": {},
   "source": [
    "Since the accuracy is so similar the only one k value i would not prefer using is 25 since it has slightly more false negatives which is detremental when dealing with serious issues as cancer."
   ]
  }
 ],
 "metadata": {
  "kernelspec": {
   "display_name": "py39",
   "language": "python",
   "name": "python3"
  },
  "language_info": {
   "codemirror_mode": {
    "name": "ipython",
    "version": 3
   },
   "file_extension": ".py",
   "mimetype": "text/x-python",
   "name": "python",
   "nbconvert_exporter": "python",
   "pygments_lexer": "ipython3",
   "version": "3.9.20"
  }
 },
 "nbformat": 4,
 "nbformat_minor": 2
}
